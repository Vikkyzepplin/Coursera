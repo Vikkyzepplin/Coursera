{
  "metadata": {
    "language_info": {
      "codemirror_mode": {
        "name": "python",
        "version": 3
      },
      "file_extension": ".py",
      "mimetype": "text/x-python",
      "name": "python",
      "nbconvert_exporter": "python",
      "pygments_lexer": "ipython3",
      "version": "3.8"
    },
    "kernelspec": {
      "name": "python",
      "display_name": "Pyolite",
      "language": "python"
    }
  },
  "nbformat_minor": 4,
  "nbformat": 4,
  "cells": [
    {
      "cell_type": "markdown",
      "source": "# My Jupyter notebook",
      "metadata": {}
    },
    {
      "cell_type": "markdown",
      "source": "VIGNESHWARAN\n\nData Analyst",
      "metadata": {}
    },
    {
      "cell_type": "markdown",
      "source": "*I am Interested in Data Science because it really intrigues me. Having n number of rows and columns of raw data , just a bunch of strings and numbers,trying to find patterns or make sense of the data and getting actionable results really gets me excited*",
      "metadata": {}
    },
    {
      "cell_type": "markdown",
      "source": "### taking a number checking if its even or odd",
      "metadata": {}
    },
    {
      "cell_type": "code",
      "source": "n=12\nif n %2 == 0:\n    print('even')\nelse:\n    print('odd')",
      "metadata": {
        "trusted": true
      },
      "execution_count": 4,
      "outputs": [
        {
          "name": "stdout",
          "text": "even\n",
          "output_type": "stream"
        }
      ]
    },
    {
      "cell_type": "code",
      "source": "n=13\nif n %2 == 0:\n    print('even')\nelse:\n    print('odd')",
      "metadata": {
        "trusted": true
      },
      "execution_count": 5,
      "outputs": [
        {
          "name": "stdout",
          "text": "odd\n",
          "output_type": "stream"
        }
      ]
    },
    {
      "cell_type": "markdown",
      "source": "Strikethrough Markdown\n\n~~Don't mind whatever I write here as it is gonna be a strikethrough example~~",
      "metadata": {}
    },
    {
      "cell_type": "markdown",
      "source": "Link Markdown\n\n<a href=\"https://www.google.com/search?gs_ssp=eJzj4tTP1TcwMU02T1JgNGB0YPBiS8_PT89JBQBASQXT&q=google&rlz=1C1GCEB_enIN974IN974&oq=gogl&aqs=chrome.1.69i57j46i10i131i199i433i465i512j0i10i131i433i512l3j0i10i512j0i10i131i433i512l3.1706j0j7&sourceid=chrome&ie=UTF-8\"> Whatever you may need you can find it here</a> ",
      "metadata": {}
    },
    {
      "cell_type": "markdown",
      "source": "Image Markdown\n\n![alt text][logo]\n\n[logo]: https://i.pinimg.com/564x/a3/e0/99/a3e099bafddd61abfffe1b3202796c58.jpg \"Logo Title Text 2\"",
      "metadata": {}
    }
  ]
}